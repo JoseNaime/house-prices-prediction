{
 "cells": [
  {
   "cell_type": "code",
   "execution_count": 2,
   "metadata": {
    "collapsed": true,
    "pycharm": {
     "name": "#%%\n"
    }
   },
   "outputs": [],
   "source": [
    "import tensorflow as tf\n",
    "import numpy as np\n",
    "import pandas as pd"
   ]
  },
  {
   "cell_type": "code",
   "execution_count": 3,
   "outputs": [
    {
     "name": "stdout",
     "output_type": "stream",
     "text": [
      "      MSSubClass MSZoning  LotFrontage  LotArea Street Alley LotShape  \\\n",
      "0             60       RL         65.0     8450   Pave   NaN      Reg   \n",
      "1             20       RL         80.0     9600   Pave   NaN      Reg   \n",
      "2             60       RL         68.0    11250   Pave   NaN      IR1   \n",
      "3             70       RL         60.0     9550   Pave   NaN      IR1   \n",
      "4             60       RL         84.0    14260   Pave   NaN      IR1   \n",
      "...          ...      ...          ...      ...    ...   ...      ...   \n",
      "1455          60       RL         62.0     7917   Pave   NaN      Reg   \n",
      "1456          20       RL         85.0    13175   Pave   NaN      Reg   \n",
      "1457          70       RL         66.0     9042   Pave   NaN      Reg   \n",
      "1458          20       RL         68.0     9717   Pave   NaN      Reg   \n",
      "1459          20       RL         75.0     9937   Pave   NaN      Reg   \n",
      "\n",
      "     LandContour Utilities LotConfig  ... ScreenPorch PoolArea PoolQC  Fence  \\\n",
      "0            Lvl    AllPub    Inside  ...           0        0    NaN    NaN   \n",
      "1            Lvl    AllPub       FR2  ...           0        0    NaN    NaN   \n",
      "2            Lvl    AllPub    Inside  ...           0        0    NaN    NaN   \n",
      "3            Lvl    AllPub    Corner  ...           0        0    NaN    NaN   \n",
      "4            Lvl    AllPub       FR2  ...           0        0    NaN    NaN   \n",
      "...          ...       ...       ...  ...         ...      ...    ...    ...   \n",
      "1455         Lvl    AllPub    Inside  ...           0        0    NaN    NaN   \n",
      "1456         Lvl    AllPub    Inside  ...           0        0    NaN  MnPrv   \n",
      "1457         Lvl    AllPub    Inside  ...           0        0    NaN  GdPrv   \n",
      "1458         Lvl    AllPub    Inside  ...           0        0    NaN    NaN   \n",
      "1459         Lvl    AllPub    Inside  ...           0        0    NaN    NaN   \n",
      "\n",
      "     MiscFeature MiscVal  MoSold  YrSold  SaleType  SaleCondition  \n",
      "0            NaN       0       2    2008        WD         Normal  \n",
      "1            NaN       0       5    2007        WD         Normal  \n",
      "2            NaN       0       9    2008        WD         Normal  \n",
      "3            NaN       0       2    2006        WD        Abnorml  \n",
      "4            NaN       0      12    2008        WD         Normal  \n",
      "...          ...     ...     ...     ...       ...            ...  \n",
      "1455         NaN       0       8    2007        WD         Normal  \n",
      "1456         NaN       0       2    2010        WD         Normal  \n",
      "1457        Shed    2500       5    2010        WD         Normal  \n",
      "1458         NaN       0       4    2010        WD         Normal  \n",
      "1459         NaN       0       6    2008        WD         Normal  \n",
      "\n",
      "[1460 rows x 79 columns]\n",
      "0       208500\n",
      "1       181500\n",
      "2       223500\n",
      "3       140000\n",
      "4       250000\n",
      "         ...  \n",
      "1455    175000\n",
      "1456    210000\n",
      "1457    266500\n",
      "1458    142125\n",
      "1459    147500\n",
      "Name: SalePrice, Length: 1460, dtype: int64\n"
     ]
    }
   ],
   "source": [
    "df = pd.read_csv('train.csv')\n",
    "\n",
    "input_df = df.iloc[:, 1:-1]\n",
    "target_df = df.iloc[:, -1]\n",
    "\n",
    "print(input_df)\n",
    "print(target_df)"
   ],
   "metadata": {
    "collapsed": false,
    "pycharm": {
     "name": "#%%\n"
    }
   }
  },
  {
   "cell_type": "code",
   "execution_count": 4,
   "outputs": [
    {
     "data": {
      "text/plain": "Id                 0\nMSSubClass         0\nMSZoning           0\nLotFrontage      259\nLotArea            0\n                ... \nMoSold             0\nYrSold             0\nSaleType           0\nSaleCondition      0\nSalePrice          0\nLength: 81, dtype: int64"
     },
     "execution_count": 4,
     "metadata": {},
     "output_type": "execute_result"
    }
   ],
   "source": [
    "df.isnull().sum()"
   ],
   "metadata": {
    "collapsed": false,
    "pycharm": {
     "name": "#%%\n"
    }
   }
  },
  {
   "cell_type": "code",
   "execution_count": 5,
   "outputs": [
    {
     "name": "stdout",
     "output_type": "stream",
     "text": [
      "              Missing Values  % of Total Values\n",
      "PoolQC                  1453               99.5\n",
      "MiscFeature             1406               96.3\n",
      "Alley                   1369               93.8\n",
      "Fence                   1179               80.8\n",
      "FireplaceQu              690               47.3\n",
      "LotFrontage              259               17.7\n",
      "GarageType                81                5.5\n",
      "GarageYrBlt               81                5.5\n",
      "GarageFinish              81                5.5\n",
      "GarageQual                81                5.5\n",
      "GarageCond                81                5.5\n",
      "BsmtExposure              38                2.6\n",
      "BsmtFinType2              38                2.6\n",
      "BsmtFinType1              37                2.5\n",
      "BsmtCond                  37                2.5\n",
      "BsmtQual                  37                2.5\n",
      "MasVnrArea                 8                0.5\n",
      "MasVnrType                 8                0.5\n",
      "Electrical                 1                0.1\n"
     ]
    }
   ],
   "source": [
    "def missing_values_table(df):\n",
    "    \"\"\"Outputs a table of missing values by column\"\"\"\n",
    "    mis_val = df.isnull().sum()\n",
    "    mis_val_percent = 100 * df.isnull().sum() / len(df)\n",
    "    mis_val_table = pd.concat([mis_val, mis_val_percent], axis=1)\n",
    "    mis_val_table_ren_columns = mis_val_table.rename(\n",
    "        columns={0: 'Missing Values', 1: '% of Total Values'})\n",
    "    mis_val_table_ren_columns = mis_val_table_ren_columns[\n",
    "        mis_val_table_ren_columns.iloc[:, 1] > 0].sort_values(\n",
    "        '% of Total Values', ascending=False).round(1)\n",
    "    print(mis_val_table_ren_columns)\n",
    "\n",
    "missing_values_table(input_df)"
   ],
   "metadata": {
    "collapsed": false,
    "pycharm": {
     "name": "#%%\n"
    }
   }
  },
  {
   "cell_type": "code",
   "execution_count": 6,
   "outputs": [
    {
     "data": {
      "text/plain": "   MSSubClass MSZoning  LotFrontage  LotArea Street LotShape LandContour  \\\n0          60       RL         65.0     8450   Pave      Reg         Lvl   \n1          20       RL         80.0     9600   Pave      Reg         Lvl   \n2          60       RL         68.0    11250   Pave      IR1         Lvl   \n3          70       RL         60.0     9550   Pave      IR1         Lvl   \n4          60       RL         84.0    14260   Pave      IR1         Lvl   \n\n  Utilities LotConfig LandSlope  ... OpenPorchSF EnclosedPorch 3SsnPorch  \\\n0    AllPub    Inside       Gtl  ...          61             0         0   \n1    AllPub       FR2       Gtl  ...           0             0         0   \n2    AllPub    Inside       Gtl  ...          42             0         0   \n3    AllPub    Corner       Gtl  ...          35           272         0   \n4    AllPub       FR2       Gtl  ...          84             0         0   \n\n  ScreenPorch PoolArea  MiscVal  MoSold  YrSold  SaleType SaleCondition  \n0           0        0        0       2    2008        WD        Normal  \n1           0        0        0       5    2007        WD        Normal  \n2           0        0        0       9    2008        WD        Normal  \n3           0        0        0       2    2006        WD       Abnorml  \n4           0        0        0      12    2008        WD        Normal  \n\n[5 rows x 74 columns]",
      "text/html": "<div>\n<style scoped>\n    .dataframe tbody tr th:only-of-type {\n        vertical-align: middle;\n    }\n\n    .dataframe tbody tr th {\n        vertical-align: top;\n    }\n\n    .dataframe thead th {\n        text-align: right;\n    }\n</style>\n<table border=\"1\" class=\"dataframe\">\n  <thead>\n    <tr style=\"text-align: right;\">\n      <th></th>\n      <th>MSSubClass</th>\n      <th>MSZoning</th>\n      <th>LotFrontage</th>\n      <th>LotArea</th>\n      <th>Street</th>\n      <th>LotShape</th>\n      <th>LandContour</th>\n      <th>Utilities</th>\n      <th>LotConfig</th>\n      <th>LandSlope</th>\n      <th>...</th>\n      <th>OpenPorchSF</th>\n      <th>EnclosedPorch</th>\n      <th>3SsnPorch</th>\n      <th>ScreenPorch</th>\n      <th>PoolArea</th>\n      <th>MiscVal</th>\n      <th>MoSold</th>\n      <th>YrSold</th>\n      <th>SaleType</th>\n      <th>SaleCondition</th>\n    </tr>\n  </thead>\n  <tbody>\n    <tr>\n      <th>0</th>\n      <td>60</td>\n      <td>RL</td>\n      <td>65.0</td>\n      <td>8450</td>\n      <td>Pave</td>\n      <td>Reg</td>\n      <td>Lvl</td>\n      <td>AllPub</td>\n      <td>Inside</td>\n      <td>Gtl</td>\n      <td>...</td>\n      <td>61</td>\n      <td>0</td>\n      <td>0</td>\n      <td>0</td>\n      <td>0</td>\n      <td>0</td>\n      <td>2</td>\n      <td>2008</td>\n      <td>WD</td>\n      <td>Normal</td>\n    </tr>\n    <tr>\n      <th>1</th>\n      <td>20</td>\n      <td>RL</td>\n      <td>80.0</td>\n      <td>9600</td>\n      <td>Pave</td>\n      <td>Reg</td>\n      <td>Lvl</td>\n      <td>AllPub</td>\n      <td>FR2</td>\n      <td>Gtl</td>\n      <td>...</td>\n      <td>0</td>\n      <td>0</td>\n      <td>0</td>\n      <td>0</td>\n      <td>0</td>\n      <td>0</td>\n      <td>5</td>\n      <td>2007</td>\n      <td>WD</td>\n      <td>Normal</td>\n    </tr>\n    <tr>\n      <th>2</th>\n      <td>60</td>\n      <td>RL</td>\n      <td>68.0</td>\n      <td>11250</td>\n      <td>Pave</td>\n      <td>IR1</td>\n      <td>Lvl</td>\n      <td>AllPub</td>\n      <td>Inside</td>\n      <td>Gtl</td>\n      <td>...</td>\n      <td>42</td>\n      <td>0</td>\n      <td>0</td>\n      <td>0</td>\n      <td>0</td>\n      <td>0</td>\n      <td>9</td>\n      <td>2008</td>\n      <td>WD</td>\n      <td>Normal</td>\n    </tr>\n    <tr>\n      <th>3</th>\n      <td>70</td>\n      <td>RL</td>\n      <td>60.0</td>\n      <td>9550</td>\n      <td>Pave</td>\n      <td>IR1</td>\n      <td>Lvl</td>\n      <td>AllPub</td>\n      <td>Corner</td>\n      <td>Gtl</td>\n      <td>...</td>\n      <td>35</td>\n      <td>272</td>\n      <td>0</td>\n      <td>0</td>\n      <td>0</td>\n      <td>0</td>\n      <td>2</td>\n      <td>2006</td>\n      <td>WD</td>\n      <td>Abnorml</td>\n    </tr>\n    <tr>\n      <th>4</th>\n      <td>60</td>\n      <td>RL</td>\n      <td>84.0</td>\n      <td>14260</td>\n      <td>Pave</td>\n      <td>IR1</td>\n      <td>Lvl</td>\n      <td>AllPub</td>\n      <td>FR2</td>\n      <td>Gtl</td>\n      <td>...</td>\n      <td>84</td>\n      <td>0</td>\n      <td>0</td>\n      <td>0</td>\n      <td>0</td>\n      <td>0</td>\n      <td>12</td>\n      <td>2008</td>\n      <td>WD</td>\n      <td>Normal</td>\n    </tr>\n  </tbody>\n</table>\n<p>5 rows × 74 columns</p>\n</div>"
     },
     "execution_count": 6,
     "metadata": {},
     "output_type": "execute_result"
    }
   ],
   "source": [
    "# remove columns with missing values is greater than 35% total values\n",
    "input_df.drop([\"PoolQC\", \"MiscFeature\", \"Alley\", \"Fence\", \"FireplaceQu\"], axis=1, inplace=True)\n",
    "input_df.head()"
   ],
   "metadata": {
    "collapsed": false,
    "pycharm": {
     "name": "#%%\n"
    }
   }
  },
  {
   "cell_type": "code",
   "execution_count": 17,
   "outputs": [
    {
     "data": {
      "text/plain": "MSSubClass       0\nMSZoning         0\nLotFrontage      0\nLotArea          0\nStreet           0\n                ..\nMiscVal          0\nMoSold           0\nYrSold           0\nSaleType         0\nSaleCondition    0\nLength: 74, dtype: int64"
     },
     "execution_count": 17,
     "metadata": {},
     "output_type": "execute_result"
    }
   ],
   "source": [
    "# remove rows with missing values\n",
    "input_df.dropna(axis=0, inplace=True)\n",
    "input_df.isnull().sum()"
   ],
   "metadata": {
    "collapsed": false,
    "pycharm": {
     "name": "#%%\n"
    }
   }
  },
  {
   "cell_type": "code",
   "execution_count": 18,
   "outputs": [
    {
     "name": "stdout",
     "output_type": "stream",
     "text": [
      "<class 'pandas.core.frame.DataFrame'>\n",
      "Int64Index: 1094 entries, 0 to 1459\n",
      "Data columns (total 74 columns):\n",
      " #   Column         Non-Null Count  Dtype  \n",
      "---  ------         --------------  -----  \n",
      " 0   MSSubClass     1094 non-null   int64  \n",
      " 1   MSZoning       1094 non-null   object \n",
      " 2   LotFrontage    1094 non-null   float64\n",
      " 3   LotArea        1094 non-null   int64  \n",
      " 4   Street         1094 non-null   object \n",
      " 5   LotShape       1094 non-null   object \n",
      " 6   LandContour    1094 non-null   object \n",
      " 7   Utilities      1094 non-null   object \n",
      " 8   LotConfig      1094 non-null   object \n",
      " 9   LandSlope      1094 non-null   object \n",
      " 10  Neighborhood   1094 non-null   object \n",
      " 11  Condition1     1094 non-null   object \n",
      " 12  Condition2     1094 non-null   object \n",
      " 13  BldgType       1094 non-null   object \n",
      " 14  HouseStyle     1094 non-null   object \n",
      " 15  OverallQual    1094 non-null   int64  \n",
      " 16  OverallCond    1094 non-null   int64  \n",
      " 17  YearBuilt      1094 non-null   int64  \n",
      " 18  YearRemodAdd   1094 non-null   int64  \n",
      " 19  RoofStyle      1094 non-null   object \n",
      " 20  RoofMatl       1094 non-null   object \n",
      " 21  Exterior1st    1094 non-null   object \n",
      " 22  Exterior2nd    1094 non-null   object \n",
      " 23  MasVnrType     1094 non-null   object \n",
      " 24  MasVnrArea     1094 non-null   float64\n",
      " 25  ExterQual      1094 non-null   object \n",
      " 26  ExterCond      1094 non-null   object \n",
      " 27  Foundation     1094 non-null   object \n",
      " 28  BsmtQual       1094 non-null   object \n",
      " 29  BsmtCond       1094 non-null   object \n",
      " 30  BsmtExposure   1094 non-null   object \n",
      " 31  BsmtFinType1   1094 non-null   object \n",
      " 32  BsmtFinSF1     1094 non-null   int64  \n",
      " 33  BsmtFinType2   1094 non-null   object \n",
      " 34  BsmtFinSF2     1094 non-null   int64  \n",
      " 35  BsmtUnfSF      1094 non-null   int64  \n",
      " 36  TotalBsmtSF    1094 non-null   int64  \n",
      " 37  Heating        1094 non-null   object \n",
      " 38  HeatingQC      1094 non-null   object \n",
      " 39  CentralAir     1094 non-null   object \n",
      " 40  Electrical     1094 non-null   object \n",
      " 41  1stFlrSF       1094 non-null   int64  \n",
      " 42  2ndFlrSF       1094 non-null   int64  \n",
      " 43  LowQualFinSF   1094 non-null   int64  \n",
      " 44  GrLivArea      1094 non-null   int64  \n",
      " 45  BsmtFullBath   1094 non-null   int64  \n",
      " 46  BsmtHalfBath   1094 non-null   int64  \n",
      " 47  FullBath       1094 non-null   int64  \n",
      " 48  HalfBath       1094 non-null   int64  \n",
      " 49  BedroomAbvGr   1094 non-null   int64  \n",
      " 50  KitchenAbvGr   1094 non-null   int64  \n",
      " 51  KitchenQual    1094 non-null   object \n",
      " 52  TotRmsAbvGrd   1094 non-null   int64  \n",
      " 53  Functional     1094 non-null   object \n",
      " 54  Fireplaces     1094 non-null   int64  \n",
      " 55  GarageType     1094 non-null   object \n",
      " 56  GarageYrBlt    1094 non-null   float64\n",
      " 57  GarageFinish   1094 non-null   object \n",
      " 58  GarageCars     1094 non-null   int64  \n",
      " 59  GarageArea     1094 non-null   int64  \n",
      " 60  GarageQual     1094 non-null   object \n",
      " 61  GarageCond     1094 non-null   object \n",
      " 62  PavedDrive     1094 non-null   object \n",
      " 63  WoodDeckSF     1094 non-null   int64  \n",
      " 64  OpenPorchSF    1094 non-null   int64  \n",
      " 65  EnclosedPorch  1094 non-null   int64  \n",
      " 66  3SsnPorch      1094 non-null   int64  \n",
      " 67  ScreenPorch    1094 non-null   int64  \n",
      " 68  PoolArea       1094 non-null   int64  \n",
      " 69  MiscVal        1094 non-null   int64  \n",
      " 70  MoSold         1094 non-null   int64  \n",
      " 71  YrSold         1094 non-null   int64  \n",
      " 72  SaleType       1094 non-null   object \n",
      " 73  SaleCondition  1094 non-null   object \n",
      "dtypes: float64(3), int64(33), object(38)\n",
      "memory usage: 641.0+ KB\n"
     ]
    }
   ],
   "source": [
    "input_df.info()"
   ],
   "metadata": {
    "collapsed": false,
    "pycharm": {
     "name": "#%%\n"
    }
   }
  },
  {
   "cell_type": "code",
   "execution_count": 19,
   "outputs": [
    {
     "name": "stdout",
     "output_type": "stream",
     "text": [
      "38 categorical columns: \n",
      " ['MSZoning', 'Street', 'LotShape', 'LandContour', 'Utilities', 'LotConfig', 'LandSlope', 'Neighborhood', 'Condition1', 'Condition2', 'BldgType', 'HouseStyle', 'RoofStyle', 'RoofMatl', 'Exterior1st', 'Exterior2nd', 'MasVnrType', 'ExterQual', 'ExterCond', 'Foundation', 'BsmtQual', 'BsmtCond', 'BsmtExposure', 'BsmtFinType1', 'BsmtFinType2', 'Heating', 'HeatingQC', 'CentralAir', 'Electrical', 'KitchenQual', 'Functional', 'GarageType', 'GarageFinish', 'GarageQual', 'GarageCond', 'PavedDrive', 'SaleType', 'SaleCondition'] \n",
      "\n",
      "36 numerical columns: \n",
      " ['MSSubClass', 'LotFrontage', 'LotArea', 'OverallQual', 'OverallCond', 'YearBuilt', 'YearRemodAdd', 'MasVnrArea', 'BsmtFinSF1', 'BsmtFinSF2', 'BsmtUnfSF', 'TotalBsmtSF', '1stFlrSF', '2ndFlrSF', 'LowQualFinSF', 'GrLivArea', 'BsmtFullBath', 'BsmtHalfBath', 'FullBath', 'HalfBath', 'BedroomAbvGr', 'KitchenAbvGr', 'TotRmsAbvGrd', 'Fireplaces', 'GarageYrBlt', 'GarageCars', 'GarageArea', 'WoodDeckSF', 'OpenPorchSF', 'EnclosedPorch', '3SsnPorch', 'ScreenPorch', 'PoolArea', 'MiscVal', 'MoSold', 'YrSold'] \n",
      "\n"
     ]
    }
   ],
   "source": [
    "#change objects to category and classify by dtypes\n",
    "cat_cols = []\n",
    "num_cols = []\n",
    "\n",
    "for col in input_df.columns:\n",
    "    if input_df[col].dtype == 'object':\n",
    "        input_df = input_df.astype({f\"{col}\":\"category\"})\n",
    "        cat_cols.append(col)\n",
    "    else:\n",
    "        num_cols.append(col)\n",
    "\n",
    "print(\"{0} categorical columns: \\n {1} \\n\".format(len(cat_cols),cat_cols))\n",
    "print(\"{0} numerical columns: \\n {1} \\n\".format(len(num_cols), num_cols))"
   ],
   "metadata": {
    "collapsed": false,
    "pycharm": {
     "name": "#%%\n"
    }
   }
  },
  {
   "cell_type": "code",
   "execution_count": 20,
   "outputs": [
    {
     "data": {
      "text/plain": "            index  cardinality\n0        MSZoning            5\n1          Street            2\n2        LotShape            4\n3     LandContour            4\n4       Utilities            1\n5       LotConfig            5\n6       LandSlope            3\n7    Neighborhood           25\n8      Condition1            9\n9      Condition2            6\n10       BldgType            5\n11     HouseStyle            8\n12      RoofStyle            5\n13       RoofMatl            7\n14    Exterior1st           14\n15    Exterior2nd           16\n16     MasVnrType            4\n17      ExterQual            4\n18      ExterCond            4\n19     Foundation            5\n20       BsmtQual            4\n21       BsmtCond            4\n22   BsmtExposure            4\n23   BsmtFinType1            6\n24   BsmtFinType2            6\n25        Heating            4\n26      HeatingQC            5\n27     CentralAir            2\n28     Electrical            5\n29    KitchenQual            4\n30     Functional            6\n31     GarageType            6\n32   GarageFinish            3\n33     GarageQual            5\n34     GarageCond            5\n35     PavedDrive            3\n36       SaleType            9\n37  SaleCondition            6",
      "text/html": "<div>\n<style scoped>\n    .dataframe tbody tr th:only-of-type {\n        vertical-align: middle;\n    }\n\n    .dataframe tbody tr th {\n        vertical-align: top;\n    }\n\n    .dataframe thead th {\n        text-align: right;\n    }\n</style>\n<table border=\"1\" class=\"dataframe\">\n  <thead>\n    <tr style=\"text-align: right;\">\n      <th></th>\n      <th>index</th>\n      <th>cardinality</th>\n    </tr>\n  </thead>\n  <tbody>\n    <tr>\n      <th>0</th>\n      <td>MSZoning</td>\n      <td>5</td>\n    </tr>\n    <tr>\n      <th>1</th>\n      <td>Street</td>\n      <td>2</td>\n    </tr>\n    <tr>\n      <th>2</th>\n      <td>LotShape</td>\n      <td>4</td>\n    </tr>\n    <tr>\n      <th>3</th>\n      <td>LandContour</td>\n      <td>4</td>\n    </tr>\n    <tr>\n      <th>4</th>\n      <td>Utilities</td>\n      <td>1</td>\n    </tr>\n    <tr>\n      <th>5</th>\n      <td>LotConfig</td>\n      <td>5</td>\n    </tr>\n    <tr>\n      <th>6</th>\n      <td>LandSlope</td>\n      <td>3</td>\n    </tr>\n    <tr>\n      <th>7</th>\n      <td>Neighborhood</td>\n      <td>25</td>\n    </tr>\n    <tr>\n      <th>8</th>\n      <td>Condition1</td>\n      <td>9</td>\n    </tr>\n    <tr>\n      <th>9</th>\n      <td>Condition2</td>\n      <td>6</td>\n    </tr>\n    <tr>\n      <th>10</th>\n      <td>BldgType</td>\n      <td>5</td>\n    </tr>\n    <tr>\n      <th>11</th>\n      <td>HouseStyle</td>\n      <td>8</td>\n    </tr>\n    <tr>\n      <th>12</th>\n      <td>RoofStyle</td>\n      <td>5</td>\n    </tr>\n    <tr>\n      <th>13</th>\n      <td>RoofMatl</td>\n      <td>7</td>\n    </tr>\n    <tr>\n      <th>14</th>\n      <td>Exterior1st</td>\n      <td>14</td>\n    </tr>\n    <tr>\n      <th>15</th>\n      <td>Exterior2nd</td>\n      <td>16</td>\n    </tr>\n    <tr>\n      <th>16</th>\n      <td>MasVnrType</td>\n      <td>4</td>\n    </tr>\n    <tr>\n      <th>17</th>\n      <td>ExterQual</td>\n      <td>4</td>\n    </tr>\n    <tr>\n      <th>18</th>\n      <td>ExterCond</td>\n      <td>4</td>\n    </tr>\n    <tr>\n      <th>19</th>\n      <td>Foundation</td>\n      <td>5</td>\n    </tr>\n    <tr>\n      <th>20</th>\n      <td>BsmtQual</td>\n      <td>4</td>\n    </tr>\n    <tr>\n      <th>21</th>\n      <td>BsmtCond</td>\n      <td>4</td>\n    </tr>\n    <tr>\n      <th>22</th>\n      <td>BsmtExposure</td>\n      <td>4</td>\n    </tr>\n    <tr>\n      <th>23</th>\n      <td>BsmtFinType1</td>\n      <td>6</td>\n    </tr>\n    <tr>\n      <th>24</th>\n      <td>BsmtFinType2</td>\n      <td>6</td>\n    </tr>\n    <tr>\n      <th>25</th>\n      <td>Heating</td>\n      <td>4</td>\n    </tr>\n    <tr>\n      <th>26</th>\n      <td>HeatingQC</td>\n      <td>5</td>\n    </tr>\n    <tr>\n      <th>27</th>\n      <td>CentralAir</td>\n      <td>2</td>\n    </tr>\n    <tr>\n      <th>28</th>\n      <td>Electrical</td>\n      <td>5</td>\n    </tr>\n    <tr>\n      <th>29</th>\n      <td>KitchenQual</td>\n      <td>4</td>\n    </tr>\n    <tr>\n      <th>30</th>\n      <td>Functional</td>\n      <td>6</td>\n    </tr>\n    <tr>\n      <th>31</th>\n      <td>GarageType</td>\n      <td>6</td>\n    </tr>\n    <tr>\n      <th>32</th>\n      <td>GarageFinish</td>\n      <td>3</td>\n    </tr>\n    <tr>\n      <th>33</th>\n      <td>GarageQual</td>\n      <td>5</td>\n    </tr>\n    <tr>\n      <th>34</th>\n      <td>GarageCond</td>\n      <td>5</td>\n    </tr>\n    <tr>\n      <th>35</th>\n      <td>PavedDrive</td>\n      <td>3</td>\n    </tr>\n    <tr>\n      <th>36</th>\n      <td>SaleType</td>\n      <td>9</td>\n    </tr>\n    <tr>\n      <th>37</th>\n      <td>SaleCondition</td>\n      <td>6</td>\n    </tr>\n  </tbody>\n</table>\n</div>"
     },
     "execution_count": 20,
     "metadata": {},
     "output_type": "execute_result"
    }
   ],
   "source": [
    "input_df[input_df.select_dtypes('category').columns].nunique().reset_index(name='cardinality')"
   ],
   "metadata": {
    "collapsed": false,
    "pycharm": {
     "name": "#%%\n"
    }
   }
  },
  {
   "cell_type": "code",
   "execution_count": null,
   "outputs": [],
   "source": [],
   "metadata": {
    "collapsed": false,
    "pycharm": {
     "name": "#%%\n"
    }
   }
  }
 ],
 "metadata": {
  "kernelspec": {
   "display_name": "Python 3",
   "language": "python",
   "name": "python3"
  },
  "language_info": {
   "codemirror_mode": {
    "name": "ipython",
    "version": 2
   },
   "file_extension": ".py",
   "mimetype": "text/x-python",
   "name": "python",
   "nbconvert_exporter": "python",
   "pygments_lexer": "ipython2",
   "version": "2.7.6"
  }
 },
 "nbformat": 4,
 "nbformat_minor": 0
}